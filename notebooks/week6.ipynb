{
 "cells": [
  {
   "cell_type": "markdown",
   "metadata": {},
   "source": [
    "# Homework week6"
   ]
  },
  {
   "cell_type": "markdown",
   "metadata": {},
   "source": [
    "**author:** Mehmet Can Ay <br>\n",
    "2023-11-30"
   ]
  },
  {
   "cell_type": "markdown",
   "metadata": {},
   "source": [
    "## Import"
   ]
  },
  {
   "cell_type": "code",
   "execution_count": 1,
   "metadata": {},
   "outputs": [],
   "source": [
    "from ppi.database import Database"
   ]
  },
  {
   "cell_type": "markdown",
   "metadata": {},
   "source": [
    "## Creating an Instance of Database Class"
   ]
  },
  {
   "cell_type": "code",
   "execution_count": 2,
   "metadata": {},
   "outputs": [],
   "source": [
    "db = Database()"
   ]
  },
  {
   "cell_type": "markdown",
   "metadata": {},
   "source": [
    "## Reading the Data"
   ]
  },
  {
   "cell_type": "markdown",
   "metadata": {},
   "source": [
    "After the creation of Database object, set_path_to_data_file() function must be executed to use the other functions the class offers."
   ]
  },
  {
   "cell_type": "code",
   "execution_count": 3,
   "metadata": {},
   "outputs": [
    {
     "data": {
      "text/plain": [
       "True"
      ]
     },
     "execution_count": 3,
     "metadata": {},
     "output_type": "execute_result"
    }
   ],
   "source": [
    "db.set_path_to_data_file(\"../tests/data/test_ppi.tsv\")"
   ]
  },
  {
   "cell_type": "code",
   "execution_count": 4,
   "metadata": {},
   "outputs": [
    {
     "data": {
      "text/html": [
       "<div>\n",
       "<style scoped>\n",
       "    .dataframe tbody tr th:only-of-type {\n",
       "        vertical-align: middle;\n",
       "    }\n",
       "\n",
       "    .dataframe tbody tr th {\n",
       "        vertical-align: top;\n",
       "    }\n",
       "\n",
       "    .dataframe thead th {\n",
       "        text-align: right;\n",
       "    }\n",
       "</style>\n",
       "<table border=\"1\" class=\"dataframe\">\n",
       "  <thead>\n",
       "    <tr style=\"text-align: right;\">\n",
       "      <th></th>\n",
       "      <th>confidence_value</th>\n",
       "      <th>detection_method</th>\n",
       "      <th>a_uniprot_id</th>\n",
       "      <th>b_uniprot_id</th>\n",
       "      <th>interaction_type</th>\n",
       "      <th>pmid</th>\n",
       "      <th>a_name</th>\n",
       "      <th>a_taxid</th>\n",
       "      <th>b_name</th>\n",
       "      <th>b_taxid</th>\n",
       "    </tr>\n",
       "  </thead>\n",
       "  <tbody>\n",
       "    <tr>\n",
       "      <th>0</th>\n",
       "      <td>0.1</td>\n",
       "      <td>dm1</td>\n",
       "      <td>node_id1</td>\n",
       "      <td>node_id2</td>\n",
       "      <td>it1</td>\n",
       "      <td>pmid1</td>\n",
       "      <td>name_1</td>\n",
       "      <td>1</td>\n",
       "      <td>name_2</td>\n",
       "      <td>1</td>\n",
       "    </tr>\n",
       "    <tr>\n",
       "      <th>1</th>\n",
       "      <td>0.2</td>\n",
       "      <td>dm2</td>\n",
       "      <td>node_id2</td>\n",
       "      <td>node_id3</td>\n",
       "      <td>it2</td>\n",
       "      <td>pmid1</td>\n",
       "      <td>name_2</td>\n",
       "      <td>1</td>\n",
       "      <td>name_3</td>\n",
       "      <td>1</td>\n",
       "    </tr>\n",
       "    <tr>\n",
       "      <th>2</th>\n",
       "      <td>0.3</td>\n",
       "      <td>dm3</td>\n",
       "      <td>node_id2</td>\n",
       "      <td>node_id4</td>\n",
       "      <td>it2</td>\n",
       "      <td>pmid1</td>\n",
       "      <td>name_2</td>\n",
       "      <td>1</td>\n",
       "      <td>name_4</td>\n",
       "      <td>1</td>\n",
       "    </tr>\n",
       "    <tr>\n",
       "      <th>3</th>\n",
       "      <td>0.4</td>\n",
       "      <td>dm1</td>\n",
       "      <td>node_id2</td>\n",
       "      <td>node_id5</td>\n",
       "      <td>it2</td>\n",
       "      <td>pmid1</td>\n",
       "      <td>name_2</td>\n",
       "      <td>1</td>\n",
       "      <td>name_5</td>\n",
       "      <td>1</td>\n",
       "    </tr>\n",
       "    <tr>\n",
       "      <th>4</th>\n",
       "      <td>0.5</td>\n",
       "      <td>dm4</td>\n",
       "      <td>node_id5</td>\n",
       "      <td>node_id6</td>\n",
       "      <td>it2</td>\n",
       "      <td>pmid1</td>\n",
       "      <td>name_5</td>\n",
       "      <td>1</td>\n",
       "      <td>name_6</td>\n",
       "      <td>2</td>\n",
       "    </tr>\n",
       "    <tr>\n",
       "      <th>5</th>\n",
       "      <td>0.6</td>\n",
       "      <td>dm1</td>\n",
       "      <td>node_id2</td>\n",
       "      <td>node_id6</td>\n",
       "      <td>it3</td>\n",
       "      <td>pmid1</td>\n",
       "      <td>name_2</td>\n",
       "      <td>1</td>\n",
       "      <td>name_6</td>\n",
       "      <td>2</td>\n",
       "    </tr>\n",
       "    <tr>\n",
       "      <th>6</th>\n",
       "      <td>0.7</td>\n",
       "      <td>dm5</td>\n",
       "      <td>node_id6</td>\n",
       "      <td>node_id7</td>\n",
       "      <td>it3</td>\n",
       "      <td>pmid1</td>\n",
       "      <td>name_6</td>\n",
       "      <td>2</td>\n",
       "      <td>name_7</td>\n",
       "      <td>1</td>\n",
       "    </tr>\n",
       "    <tr>\n",
       "      <th>7</th>\n",
       "      <td>0.8</td>\n",
       "      <td>dm2</td>\n",
       "      <td>node_id2</td>\n",
       "      <td>node_id3</td>\n",
       "      <td>it3</td>\n",
       "      <td>pmid1</td>\n",
       "      <td>name_2</td>\n",
       "      <td>1</td>\n",
       "      <td>name_3</td>\n",
       "      <td>1</td>\n",
       "    </tr>\n",
       "  </tbody>\n",
       "</table>\n",
       "</div>"
      ],
      "text/plain": [
       "   confidence_value detection_method a_uniprot_id b_uniprot_id  \\\n",
       "0               0.1              dm1     node_id1     node_id2   \n",
       "1               0.2              dm2     node_id2     node_id3   \n",
       "2               0.3              dm3     node_id2     node_id4   \n",
       "3               0.4              dm1     node_id2     node_id5   \n",
       "4               0.5              dm4     node_id5     node_id6   \n",
       "5               0.6              dm1     node_id2     node_id6   \n",
       "6               0.7              dm5     node_id6     node_id7   \n",
       "7               0.8              dm2     node_id2     node_id3   \n",
       "\n",
       "  interaction_type   pmid  a_name  a_taxid  b_name  b_taxid  \n",
       "0              it1  pmid1  name_1        1  name_2        1  \n",
       "1              it2  pmid1  name_2        1  name_3        1  \n",
       "2              it2  pmid1  name_2        1  name_4        1  \n",
       "3              it2  pmid1  name_2        1  name_5        1  \n",
       "4              it2  pmid1  name_5        1  name_6        2  \n",
       "5              it3  pmid1  name_2        1  name_6        2  \n",
       "6              it3  pmid1  name_6        2  name_7        1  \n",
       "7              it3  pmid1  name_2        1  name_3        1  "
      ]
     },
     "execution_count": 4,
     "metadata": {},
     "output_type": "execute_result"
    }
   ],
   "source": [
    "db.read_data()"
   ]
  },
  {
   "cell_type": "markdown",
   "metadata": {},
   "source": [
    "## Getting Proteins and Interactions Table"
   ]
  },
  {
   "cell_type": "markdown",
   "metadata": {},
   "source": [
    "Both functions utilizes read_data() function."
   ]
  },
  {
   "cell_type": "code",
   "execution_count": 5,
   "metadata": {},
   "outputs": [
    {
     "data": {
      "text/html": [
       "<div>\n",
       "<style scoped>\n",
       "    .dataframe tbody tr th:only-of-type {\n",
       "        vertical-align: middle;\n",
       "    }\n",
       "\n",
       "    .dataframe tbody tr th {\n",
       "        vertical-align: top;\n",
       "    }\n",
       "\n",
       "    .dataframe thead th {\n",
       "        text-align: right;\n",
       "    }\n",
       "</style>\n",
       "<table border=\"1\" class=\"dataframe\">\n",
       "  <thead>\n",
       "    <tr style=\"text-align: right;\">\n",
       "      <th></th>\n",
       "      <th>accession</th>\n",
       "      <th>name</th>\n",
       "      <th>taxid</th>\n",
       "    </tr>\n",
       "    <tr>\n",
       "      <th>id</th>\n",
       "      <th></th>\n",
       "      <th></th>\n",
       "      <th></th>\n",
       "    </tr>\n",
       "  </thead>\n",
       "  <tbody>\n",
       "    <tr>\n",
       "      <th>1</th>\n",
       "      <td>node_id1</td>\n",
       "      <td>name_1</td>\n",
       "      <td>1</td>\n",
       "    </tr>\n",
       "    <tr>\n",
       "      <th>2</th>\n",
       "      <td>node_id2</td>\n",
       "      <td>name_2</td>\n",
       "      <td>1</td>\n",
       "    </tr>\n",
       "    <tr>\n",
       "      <th>3</th>\n",
       "      <td>node_id3</td>\n",
       "      <td>name_3</td>\n",
       "      <td>1</td>\n",
       "    </tr>\n",
       "    <tr>\n",
       "      <th>4</th>\n",
       "      <td>node_id4</td>\n",
       "      <td>name_4</td>\n",
       "      <td>1</td>\n",
       "    </tr>\n",
       "    <tr>\n",
       "      <th>5</th>\n",
       "      <td>node_id5</td>\n",
       "      <td>name_5</td>\n",
       "      <td>1</td>\n",
       "    </tr>\n",
       "    <tr>\n",
       "      <th>6</th>\n",
       "      <td>node_id6</td>\n",
       "      <td>name_6</td>\n",
       "      <td>2</td>\n",
       "    </tr>\n",
       "    <tr>\n",
       "      <th>7</th>\n",
       "      <td>node_id7</td>\n",
       "      <td>name_7</td>\n",
       "      <td>1</td>\n",
       "    </tr>\n",
       "  </tbody>\n",
       "</table>\n",
       "</div>"
      ],
      "text/plain": [
       "   accession    name  taxid\n",
       "id                         \n",
       "1   node_id1  name_1      1\n",
       "2   node_id2  name_2      1\n",
       "3   node_id3  name_3      1\n",
       "4   node_id4  name_4      1\n",
       "5   node_id5  name_5      1\n",
       "6   node_id6  name_6      2\n",
       "7   node_id7  name_7      1"
      ]
     },
     "execution_count": 5,
     "metadata": {},
     "output_type": "execute_result"
    }
   ],
   "source": [
    "db.get_proteins()"
   ]
  },
  {
   "cell_type": "code",
   "execution_count": 6,
   "metadata": {},
   "outputs": [
    {
     "data": {
      "text/html": [
       "<div>\n",
       "<style scoped>\n",
       "    .dataframe tbody tr th:only-of-type {\n",
       "        vertical-align: middle;\n",
       "    }\n",
       "\n",
       "    .dataframe tbody tr th {\n",
       "        vertical-align: top;\n",
       "    }\n",
       "\n",
       "    .dataframe thead th {\n",
       "        text-align: right;\n",
       "    }\n",
       "</style>\n",
       "<table border=\"1\" class=\"dataframe\">\n",
       "  <thead>\n",
       "    <tr style=\"text-align: right;\">\n",
       "      <th></th>\n",
       "      <th>confidence_value</th>\n",
       "      <th>detection_method</th>\n",
       "      <th>interaction_type</th>\n",
       "      <th>pmid</th>\n",
       "      <th>protein_a_id</th>\n",
       "      <th>protein_b_id</th>\n",
       "    </tr>\n",
       "    <tr>\n",
       "      <th>id</th>\n",
       "      <th></th>\n",
       "      <th></th>\n",
       "      <th></th>\n",
       "      <th></th>\n",
       "      <th></th>\n",
       "      <th></th>\n",
       "    </tr>\n",
       "  </thead>\n",
       "  <tbody>\n",
       "    <tr>\n",
       "      <th>1</th>\n",
       "      <td>0.1</td>\n",
       "      <td>dm1</td>\n",
       "      <td>it1</td>\n",
       "      <td>pmid1</td>\n",
       "      <td>1</td>\n",
       "      <td>2</td>\n",
       "    </tr>\n",
       "    <tr>\n",
       "      <th>2</th>\n",
       "      <td>0.2</td>\n",
       "      <td>dm2</td>\n",
       "      <td>it2</td>\n",
       "      <td>pmid1</td>\n",
       "      <td>2</td>\n",
       "      <td>3</td>\n",
       "    </tr>\n",
       "    <tr>\n",
       "      <th>3</th>\n",
       "      <td>0.3</td>\n",
       "      <td>dm3</td>\n",
       "      <td>it2</td>\n",
       "      <td>pmid1</td>\n",
       "      <td>2</td>\n",
       "      <td>4</td>\n",
       "    </tr>\n",
       "    <tr>\n",
       "      <th>4</th>\n",
       "      <td>0.4</td>\n",
       "      <td>dm1</td>\n",
       "      <td>it2</td>\n",
       "      <td>pmid1</td>\n",
       "      <td>2</td>\n",
       "      <td>5</td>\n",
       "    </tr>\n",
       "    <tr>\n",
       "      <th>5</th>\n",
       "      <td>0.5</td>\n",
       "      <td>dm4</td>\n",
       "      <td>it2</td>\n",
       "      <td>pmid1</td>\n",
       "      <td>5</td>\n",
       "      <td>6</td>\n",
       "    </tr>\n",
       "    <tr>\n",
       "      <th>6</th>\n",
       "      <td>0.6</td>\n",
       "      <td>dm1</td>\n",
       "      <td>it3</td>\n",
       "      <td>pmid1</td>\n",
       "      <td>2</td>\n",
       "      <td>6</td>\n",
       "    </tr>\n",
       "    <tr>\n",
       "      <th>7</th>\n",
       "      <td>0.7</td>\n",
       "      <td>dm5</td>\n",
       "      <td>it3</td>\n",
       "      <td>pmid1</td>\n",
       "      <td>6</td>\n",
       "      <td>7</td>\n",
       "    </tr>\n",
       "    <tr>\n",
       "      <th>8</th>\n",
       "      <td>0.8</td>\n",
       "      <td>dm2</td>\n",
       "      <td>it3</td>\n",
       "      <td>pmid1</td>\n",
       "      <td>2</td>\n",
       "      <td>3</td>\n",
       "    </tr>\n",
       "  </tbody>\n",
       "</table>\n",
       "</div>"
      ],
      "text/plain": [
       "    confidence_value detection_method interaction_type   pmid  protein_a_id  \\\n",
       "id                                                                            \n",
       "1                0.1              dm1              it1  pmid1             1   \n",
       "2                0.2              dm2              it2  pmid1             2   \n",
       "3                0.3              dm3              it2  pmid1             2   \n",
       "4                0.4              dm1              it2  pmid1             2   \n",
       "5                0.5              dm4              it2  pmid1             5   \n",
       "6                0.6              dm1              it3  pmid1             2   \n",
       "7                0.7              dm5              it3  pmid1             6   \n",
       "8                0.8              dm2              it3  pmid1             2   \n",
       "\n",
       "    protein_b_id  \n",
       "id                \n",
       "1              2  \n",
       "2              3  \n",
       "3              4  \n",
       "4              5  \n",
       "5              6  \n",
       "6              6  \n",
       "7              7  \n",
       "8              3  "
      ]
     },
     "execution_count": 6,
     "metadata": {},
     "output_type": "execute_result"
    }
   ],
   "source": [
    "db.get_interactions()"
   ]
  },
  {
   "cell_type": "markdown",
   "metadata": {},
   "source": [
    "## Saving protein and interaction Tables to the SQL Database"
   ]
  },
  {
   "cell_type": "markdown",
   "metadata": {},
   "source": [
    "This function uses both get_proteins() and get_interactions() functions."
   ]
  },
  {
   "cell_type": "code",
   "execution_count": 7,
   "metadata": {},
   "outputs": [],
   "source": [
    "db.import_data()"
   ]
  },
  {
   "cell_type": "markdown",
   "metadata": {},
   "source": [
    "## Retrieving Table Information From The SQL Database"
   ]
  },
  {
   "cell_type": "code",
   "execution_count": 8,
   "metadata": {},
   "outputs": [
    {
     "data": {
      "text/plain": [
       "['interaction', 'protein']"
      ]
     },
     "execution_count": 8,
     "metadata": {},
     "output_type": "execute_result"
    }
   ],
   "source": [
    "db.get_table_names()"
   ]
  },
  {
   "cell_type": "code",
   "execution_count": 9,
   "metadata": {},
   "outputs": [
    {
     "data": {
      "text/plain": [
       "['id',\n",
       " 'confidence_value',\n",
       " 'detection_method',\n",
       " 'interaction_type',\n",
       " 'pmid',\n",
       " 'protein_a_id',\n",
       " 'protein_b_id']"
      ]
     },
     "execution_count": 9,
     "metadata": {},
     "output_type": "execute_result"
    }
   ],
   "source": [
    "db.get_columns(table=\"interaction\")"
   ]
  },
  {
   "cell_type": "code",
   "execution_count": 10,
   "metadata": {},
   "outputs": [
    {
     "data": {
      "text/plain": [
       "['id', 'accession', 'name', 'taxid']"
      ]
     },
     "execution_count": 10,
     "metadata": {},
     "output_type": "execute_result"
    }
   ],
   "source": [
    "db.get_columns(table=\"protein\")"
   ]
  }
 ],
 "metadata": {
  "kernelspec": {
   "display_name": ".venv",
   "language": "python",
   "name": "python3"
  },
  "language_info": {
   "codemirror_mode": {
    "name": "ipython",
    "version": 3
   },
   "file_extension": ".py",
   "mimetype": "text/x-python",
   "name": "python",
   "nbconvert_exporter": "python",
   "pygments_lexer": "ipython3",
   "version": "3.11.6"
  }
 },
 "nbformat": 4,
 "nbformat_minor": 2
}
